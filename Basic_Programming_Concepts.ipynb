{
  "nbformat": 4,
  "nbformat_minor": 0,
  "metadata": {
    "colab": {
      "name": "Basic_Programming_Concepts.ipynb",
      "provenance": [],
      "authorship_tag": "ABX9TyOexgn4zn79jyhMLjl5VM2W",
      "include_colab_link": true
    },
    "kernelspec": {
      "name": "python3",
      "display_name": "Python 3"
    },
    "language_info": {
      "name": "python"
    }
  },
  "cells": [
    {
      "cell_type": "markdown",
      "metadata": {
        "id": "view-in-github",
        "colab_type": "text"
      },
      "source": [
        "<a href=\"https://colab.research.google.com/github/nualpair/data_viz_2022/blob/main/Basic_Programming_Concepts.ipynb\" target=\"_parent\"><img src=\"https://colab.research.google.com/assets/colab-badge.svg\" alt=\"Open In Colab\"/></a>"
      ]
    },
    {
      "cell_type": "markdown",
      "source": [
        "# **Functions ($f(x) = y $)**"
      ],
      "metadata": {
        "id": "7MqIrw73A5T0"
      }
    },
    {
      "cell_type": "markdown",
      "source": [
        "``` python \n",
        "def function_name(input_x): #ขึ้นต้นด้วย def แล้วตามด้วยชื่อ function แล้วรับ input ด้วยตัวแปร x\n",
        "    #do someting with input_x to get output_y จะได้ค่า y ออกมา\n",
        "    return output_y \n",
        "```"
      ],
      "metadata": {
        "id": "iFXOSzwTA7S2"
      }
    },
    {
      "cell_type": "markdown",
      "source": [
        "$f_1(x)=x^2 + 75$"
      ],
      "metadata": {
        "id": "RIEE_615A7uX"
      }
    },
    {
      "cell_type": "code",
      "execution_count": 1,
      "metadata": {
        "colab": {
          "base_uri": "https://localhost:8080/"
        },
        "id": "7EnfcTAsAvlW",
        "outputId": "53341fe5-14c1-4f1f-e8d2-d3923ca3a639"
      },
      "outputs": [
        {
          "output_type": "stream",
          "name": "stdout",
          "text": [
            "done!\n"
          ]
        }
      ],
      "source": [
        "# Function มีครบทุกอย่าง \n",
        "def function_f1(x):\n",
        "    a = x**2 #ยกกำลัง คือ ** สองอัน\n",
        "    y = a + 75 \n",
        "    return y #ส่งค่าออกมาเป็นค่า y\n",
        "\n",
        "print('done!') #ไม่ให้มันเยื้องแล้ว ให้มันกลับมาเหมือนเดิม "
      ]
    },
    {
      "cell_type": "code",
      "source": [
        "function_f1(3) # x =  3 ค่าที่ได้จะเท่ากับ 84"
      ],
      "metadata": {
        "colab": {
          "base_uri": "https://localhost:8080/"
        },
        "id": "zEo-2CppA-z-",
        "outputId": "65b14ee6-0e95-4a4c-c921-41fdfde7c3a4"
      },
      "execution_count": 2,
      "outputs": [
        {
          "output_type": "execute_result",
          "data": {
            "text/plain": [
              "84"
            ]
          },
          "metadata": {},
          "execution_count": 2
        }
      ]
    },
    {
      "cell_type": "markdown",
      "source": [
        "## **Function มีส่วนสำคัญทั้งหมด 4 ส่วน** \n",
        "\n",
        "1. บอก python ว่าเราจะเขียนฟังก์ชั่น ชื่ออะไร def  function_name(): (ขาดไม่ได้) \n",
        "2. กำหนดตัวแปรที่จะเป็น input (ขาดได้)\n",
        "3. ส่วนประมวลผล (ขาดไม่ได้)\n",
        "4. ส่วน output  (ขาดได้)"
      ],
      "metadata": {
        "id": "dur-3lB8BDTu"
      }
    },
    {
      "cell_type": "markdown",
      "source": [
        "###ตัวอย่าง function ที่มีส่วนประกอบครบ"
      ],
      "metadata": {
        "id": "BxgdP6-4BF4g"
      }
    },
    {
      "cell_type": "code",
      "source": [
        "# Function มีครบทุกอย่าง \n",
        "def function_f1(x):\n",
        "    a = x**2 #ยกกำลัง คือ ** สองอัน\n",
        "    y = a + 75 \n",
        "    return y #ส่งค่าออกมาเป็นค่า y\n",
        "\n",
        "print('done!') #ไม่ให้มันเยื้องแล้ว ให้มันกลับมาเหมือนเดิม "
      ],
      "metadata": {
        "colab": {
          "base_uri": "https://localhost:8080/"
        },
        "id": "NYoKtZTFBBjO",
        "outputId": "1e44ca05-8f7e-4847-bf85-e7b9cebf3c15"
      },
      "execution_count": 3,
      "outputs": [
        {
          "output_type": "stream",
          "name": "stdout",
          "text": [
            "done!\n"
          ]
        }
      ]
    },
    {
      "cell_type": "markdown",
      "source": [
        "###ตัวอย่าง function ที่ไม่มี input"
      ],
      "metadata": {
        "id": "8YWVh3FABLtp"
      }
    },
    {
      "cell_type": "code",
      "source": [
        "def pi_v(): #กำหนดชื่อเป็น pi_v\n",
        "    y =3.14159265359\n",
        "    return y #ส่งค่าออกมาเป็นค่า y"
      ],
      "metadata": {
        "id": "1-KrP00qBHep"
      },
      "execution_count": 4,
      "outputs": []
    },
    {
      "cell_type": "code",
      "source": [
        "piv = pi_v()\n",
        "circle_area_r2 = pi_v()*(2**2) #ตัวอย่างหาพื้นที่วงกลม\n",
        "print(circle_area_r2) "
      ],
      "metadata": {
        "colab": {
          "base_uri": "https://localhost:8080/"
        },
        "id": "1xpRw_ZpBNae",
        "outputId": "77fbfda5-8f48-477d-f013-36f44cfa8bcd"
      },
      "execution_count": 5,
      "outputs": [
        {
          "output_type": "stream",
          "name": "stdout",
          "text": [
            "12.56637061436\n"
          ]
        }
      ]
    },
    {
      "cell_type": "markdown",
      "source": [
        "###ตัวอย่าง function ที่ไม่มี Process"
      ],
      "metadata": {
        "id": "47UGopskBP7p"
      }
    },
    {
      "cell_type": "code",
      "source": [
        "## def functions_a():    ###กรณีไม่มี Process ไม่มีไม่ได้ ไม่งั้นจะ Error"
      ],
      "metadata": {
        "id": "faEt61S9BOj4"
      },
      "execution_count": 6,
      "outputs": []
    },
    {
      "cell_type": "markdown",
      "source": [
        "###ตัวอย่าง function ที่ไม่มี output"
      ],
      "metadata": {
        "id": "dxsCm2BVBhRD"
      }
    },
    {
      "cell_type": "code",
      "source": [
        "def print_name_id(name,id): #name ตรงนี้ไม่ใช่ตัวแปรถาวร ถ้าถูกใช้แล้วก็จะหายไป\n",
        "    print(f'ชื่อ {name} รหัสประจำตัว {id}')"
      ],
      "metadata": {
        "id": "gnZ4EbWsBSA9"
      },
      "execution_count": 7,
      "outputs": []
    },
    {
      "cell_type": "code",
      "source": [
        "print_name_id('นวลแพร','623020525-0') #print ชื่อกับรหัสประจำตัวออกมา"
      ],
      "metadata": {
        "colab": {
          "base_uri": "https://localhost:8080/"
        },
        "id": "2FQQbA5-Bjdm",
        "outputId": "76d87d62-93d7-4443-e533-4f7598838814"
      },
      "execution_count": 8,
      "outputs": [
        {
          "output_type": "stream",
          "name": "stdout",
          "text": [
            "ชื่อ นวลแพร รหัสประจำตัว 623020525-0\n"
          ]
        }
      ]
    },
    {
      "cell_type": "code",
      "source": [
        "a = print_name_id('นวลแพร','623020525-0') #กรณีไม่มี return"
      ],
      "metadata": {
        "colab": {
          "base_uri": "https://localhost:8080/"
        },
        "id": "BlKP97WNBnU8",
        "outputId": "a485cba2-e5ed-4c7a-fbb3-ad9779f16ad0"
      },
      "execution_count": 9,
      "outputs": [
        {
          "output_type": "stream",
          "name": "stdout",
          "text": [
            "ชื่อ นวลแพร รหัสประจำตัว 623020525-0\n"
          ]
        }
      ]
    },
    {
      "cell_type": "code",
      "source": [
        "a #ไม่มี return ค่า a เลยเป็นช่องว่างธรรมดา"
      ],
      "metadata": {
        "id": "7mNnojC7BqAS"
      },
      "execution_count": 10,
      "outputs": []
    },
    {
      "cell_type": "markdown",
      "source": [
        "###ตัวอย่าง function print\n",
        "https://www.programiz.com/python-programming/methods/built-in/print"
      ],
      "metadata": {
        "id": "qMMR5eEyB3YX"
      }
    },
    {
      "cell_type": "code",
      "source": [
        "print(' นวลแพร ',end=' -> ') #จะอยู่ในบรรทัดเดียวกัน\n",
        "print(' 623020525-0 ') #\\n ขึ้นบรรทัดใหม่"
      ],
      "metadata": {
        "colab": {
          "base_uri": "https://localhost:8080/"
        },
        "id": "teAL2PsvBrVv",
        "outputId": "c36229b4-26f4-4117-9040-8e06c13f82e9"
      },
      "execution_count": 11,
      "outputs": [
        {
          "output_type": "stream",
          "name": "stdout",
          "text": [
            " นวลแพร  ->  623020525-0 \n"
          ]
        }
      ]
    },
    {
      "cell_type": "code",
      "source": [
        " print('นวลแพร',end=' 623020525-0 ') #จะอยู่ในบรรทัดเดียวกัน"
      ],
      "metadata": {
        "colab": {
          "base_uri": "https://localhost:8080/"
        },
        "id": "-Xr5858eB5Fe",
        "outputId": "d485377c-1af8-4636-e22a-a5ac20ab4128"
      },
      "execution_count": 12,
      "outputs": [
        {
          "output_type": "stream",
          "name": "stdout",
          "text": [
            "นวลแพร 623020525-0 "
          ]
        }
      ]
    },
    {
      "cell_type": "code",
      "source": [
        " print('นวลแพร',' 623020525-0 ',sep=' & ') #จะเพิ่ม & ให้"
      ],
      "metadata": {
        "colab": {
          "base_uri": "https://localhost:8080/"
        },
        "id": "bv04SKcBCGWr",
        "outputId": "46a38419-1146-419e-88d1-35a20a99f425"
      },
      "execution_count": 13,
      "outputs": [
        {
          "output_type": "stream",
          "name": "stdout",
          "text": [
            "นวลแพร &  623020525-0 \n"
          ]
        }
      ]
    },
    {
      "cell_type": "markdown",
      "source": [
        "##**input ของ function แบ่งเป็น 2 ชนิด (จำเป็นต้องใส่ กับ ไม่จำเป็นต้องใส่)**"
      ],
      "metadata": {
        "id": "YCX2OrWDCh8w"
      }
    },
    {
      "cell_type": "markdown",
      "source": [
        "###ตัวอย่าง function print_grade มี input 3 ตัว จำเป็นต้องใส่ 2 ตัว คือ name กับ id และ ไม่จำเป็นต้องใส่ 1 ตัว คือ เกรด ซึ่งมีค่าเป็นค่าเริ่มต้น เป็น F"
      ],
      "metadata": {
        "id": "EqNU9BrrCidd"
      }
    },
    {
      "cell_type": "code",
      "source": [
        "def print_grade(name,id,grade = 'F'): #ฟังกชั่นมี input , พารามิเตอร์ 3 ตัว \n",
        "     print(f'รหัสนักศึกษา {id} ชื่อ {name}')\n",
        "     print(f'ได้เกรด {grade}')"
      ],
      "metadata": {
        "id": "M3mYrGLiCGoS"
      },
      "execution_count": 14,
      "outputs": []
    },
    {
      "cell_type": "code",
      "source": [
        "print_grade('นางสาวนวลแพร พนาวัฒนวงศ์' , '623020525-0' , 'A' ) #ลองปริ้นออกมาดู ซึ่งต้องใส่ให้ตรงกับที่ใส่ด้านบนคือ ใส่ชื่อก่อนใส่ไอดี #ถ้าไม่ใส่ เกรดจะได้ เกรด F"
      ],
      "metadata": {
        "colab": {
          "base_uri": "https://localhost:8080/"
        },
        "id": "a-GL5Lu7CteR",
        "outputId": "bd0d50db-ee62-4bda-c3cd-08d2f8ea5061"
      },
      "execution_count": 15,
      "outputs": [
        {
          "output_type": "stream",
          "name": "stdout",
          "text": [
            "รหัสนักศึกษา 623020525-0 ชื่อ นางสาวนวลแพร พนาวัฒนวงศ์\n",
            "ได้เกรด A\n"
          ]
        }
      ]
    },
    {
      "cell_type": "code",
      "source": [
        "print_grade(id = '623020525-0' ,name = 'นางสาวนวลแพร พนาวัฒนวงศ์' ,grade='A' ) #กรณีนี้แบบกำหนดเลยว่า จะเอาอะไรขึ้นก่อน"
      ],
      "metadata": {
        "colab": {
          "base_uri": "https://localhost:8080/"
        },
        "id": "6nGpj30bDCna",
        "outputId": "facd96df-88f1-4c97-d487-865b8058c863"
      },
      "execution_count": 16,
      "outputs": [
        {
          "output_type": "stream",
          "name": "stdout",
          "text": [
            "รหัสนักศึกษา 623020525-0 ชื่อ นางสาวนวลแพร พนาวัฒนวงศ์\n",
            "ได้เกรด A\n"
          ]
        }
      ]
    },
    {
      "cell_type": "markdown",
      "source": [
        "##Looping (for)"
      ],
      "metadata": {
        "id": "-x4DL7N5DFJR"
      }
    },
    {
      "cell_type": "code",
      "source": [
        "for member in [1,2,3,4,5,6]:\n",
        "    print(member)"
      ],
      "metadata": {
        "id": "9zkFt7s5DEs2",
        "outputId": "8bb5ac35-035c-4f4f-b89c-6661596f4fba",
        "colab": {
          "base_uri": "https://localhost:8080/"
        }
      },
      "execution_count": 17,
      "outputs": [
        {
          "output_type": "stream",
          "name": "stdout",
          "text": [
            "1\n",
            "2\n",
            "3\n",
            "4\n",
            "5\n",
            "6\n"
          ]
        }
      ]
    },
    {
      "cell_type": "code",
      "source": [
        "def print_name(name):\n",
        "    print(f'ฉันชื่อ {name}')"
      ],
      "metadata": {
        "id": "uVyIKzyJPyTZ"
      },
      "execution_count": 18,
      "outputs": []
    },
    {
      "cell_type": "code",
      "source": [
        "for name in ['วัชราภรณ์','จุฑากาญจน์ ','ชลธิชา','ญาดา','กิตติคุณ']:\n",
        "    N = name\n",
        "    print_name(N)"
      ],
      "metadata": {
        "id": "OJGjHGBoPzm1",
        "outputId": "861dc045-00a6-4347-ddfb-b7ebe39c7dd7",
        "colab": {
          "base_uri": "https://localhost:8080/"
        }
      },
      "execution_count": 19,
      "outputs": [
        {
          "output_type": "stream",
          "name": "stdout",
          "text": [
            "ฉันชื่อ วัชราภรณ์\n",
            "ฉันชื่อ จุฑากาญจน์ \n",
            "ฉันชื่อ ชลธิชา\n",
            "ฉันชื่อ ญาดา\n",
            "ฉันชื่อ กิตติคุณ\n"
          ]
        }
      ]
    },
    {
      "cell_type": "code",
      "source": [
        "list_name_id_grade = [['นางสาวเบญญาภา ระภูเขียว','623020527-6','B'],\n",
        "                      ['นางสาวทักษิณา ราชหุ่น','623021000-1','A'],\n",
        "                      ['นางสาวปลายฟ้า คำเพ็ง','623021005-1','C']]"
      ],
      "metadata": {
        "id": "ahHnsPDwP1cc"
      },
      "execution_count": 20,
      "outputs": []
    },
    {
      "cell_type": "code",
      "source": [
        "for each in list_name_id_grade:\n",
        "    name = each[0]\n",
        "    id = each[1]\n",
        "    grade = each[2]\n",
        "    print_grade(name,id,grade)\n",
        "    print('----------------------------')"
      ],
      "metadata": {
        "id": "9ZB3kgUtP2yx",
        "outputId": "f5dbd139-6aec-48f2-ba2a-7bb62442f75c",
        "colab": {
          "base_uri": "https://localhost:8080/"
        }
      },
      "execution_count": 21,
      "outputs": [
        {
          "output_type": "stream",
          "name": "stdout",
          "text": [
            "รหัสนักศึกษา 623020527-6 ชื่อ นางสาวเบญญาภา ระภูเขียว\n",
            "ได้เกรด B\n",
            "----------------------------\n",
            "รหัสนักศึกษา 623021000-1 ชื่อ นางสาวทักษิณา ราชหุ่น\n",
            "ได้เกรด A\n",
            "----------------------------\n",
            "รหัสนักศึกษา 623021005-1 ชื่อ นางสาวปลายฟ้า คำเพ็ง\n",
            "ได้เกรด C\n",
            "----------------------------\n"
          ]
        }
      ]
    },
    {
      "cell_type": "markdown",
      "source": [
        "##**ใช้ for loop เพิ่มสมาชิกใน list**"
      ],
      "metadata": {
        "id": "E1uDPtlvP4Z-"
      }
    },
    {
      "cell_type": "code",
      "source": [
        "list_name = []\n",
        "list_id = []\n",
        "list_grade = []\n",
        "for each in list_name_id_grade:\n",
        "    list_name.append(each[0])\n",
        "    list_id.append(each[1])\n",
        "    list_grade.append(each[2])"
      ],
      "metadata": {
        "id": "1s434dCVP4D0"
      },
      "execution_count": 22,
      "outputs": []
    },
    {
      "cell_type": "code",
      "source": [
        "list_name"
      ],
      "metadata": {
        "id": "fEzZdJFSP7-C",
        "outputId": "1493e224-5886-4424-db4b-368a4eb512cd",
        "colab": {
          "base_uri": "https://localhost:8080/"
        }
      },
      "execution_count": 23,
      "outputs": [
        {
          "output_type": "execute_result",
          "data": {
            "text/plain": [
              "['นางสาวเบญญาภา ระภูเขียว', 'นางสาวทักษิณา ราชหุ่น', 'นางสาวปลายฟ้า คำเพ็ง']"
            ]
          },
          "metadata": {},
          "execution_count": 23
        }
      ]
    },
    {
      "cell_type": "markdown",
      "source": [
        "##**การวนลูปด้วย range()**"
      ],
      "metadata": {
        "id": "Lm1OD8vKP-qM"
      }
    },
    {
      "cell_type": "code",
      "source": [
        "for i in range(50):\n",
        "  print('มุแงงง', end = ' ')"
      ],
      "metadata": {
        "id": "1bH2-eoDP9cd",
        "outputId": "5264c277-ad47-42f7-9f37-f94e60beb412",
        "colab": {
          "base_uri": "https://localhost:8080/"
        }
      },
      "execution_count": 24,
      "outputs": [
        {
          "output_type": "stream",
          "name": "stdout",
          "text": [
            "มุแงงง มุแงงง มุแงงง มุแงงง มุแงงง มุแงงง มุแงงง มุแงงง มุแงงง มุแงงง มุแงงง มุแงงง มุแงงง มุแงงง มุแงงง มุแงงง มุแงงง มุแงงง มุแงงง มุแงงง มุแงงง มุแงงง มุแงงง มุแงงง มุแงงง มุแงงง มุแงงง มุแงงง มุแงงง มุแงงง มุแงงง มุแงงง มุแงงง มุแงงง มุแงงง มุแงงง มุแงงง มุแงงง มุแงงง มุแงงง มุแงงง มุแงงง มุแงงง มุแงงง มุแงงง มุแงงง มุแงงง มุแงงง มุแงงง มุแงงง "
          ]
        }
      ]
    },
    {
      "cell_type": "markdown",
      "source": [
        "##**Loop ซ้อน Loop**"
      ],
      "metadata": {
        "id": "TpKBcvW8QFxY"
      }
    },
    {
      "cell_type": "code",
      "source": [
        "for mem1 in range(2,5): #[2,3,4]\n",
        "    print(f'now mem1 = {mem1}')\n",
        "    for mem2 in range(1,13): #[1,2,3,4,5,6,7,8,9,10,11,12]\n",
        "        print(f'{mem1} x {mem2} = {mem1*mem2}')\n",
        "    print(f'end inner for mem1 = {mem1}')"
      ],
      "metadata": {
        "id": "RM9xui2hQD8U",
        "outputId": "fe4613df-99a6-433c-9e38-447bd2417bc2",
        "colab": {
          "base_uri": "https://localhost:8080/"
        }
      },
      "execution_count": 25,
      "outputs": [
        {
          "output_type": "stream",
          "name": "stdout",
          "text": [
            "now mem1 = 2\n",
            "2 x 1 = 2\n",
            "2 x 2 = 4\n",
            "2 x 3 = 6\n",
            "2 x 4 = 8\n",
            "2 x 5 = 10\n",
            "2 x 6 = 12\n",
            "2 x 7 = 14\n",
            "2 x 8 = 16\n",
            "2 x 9 = 18\n",
            "2 x 10 = 20\n",
            "2 x 11 = 22\n",
            "2 x 12 = 24\n",
            "end inner for mem1 = 2\n",
            "now mem1 = 3\n",
            "3 x 1 = 3\n",
            "3 x 2 = 6\n",
            "3 x 3 = 9\n",
            "3 x 4 = 12\n",
            "3 x 5 = 15\n",
            "3 x 6 = 18\n",
            "3 x 7 = 21\n",
            "3 x 8 = 24\n",
            "3 x 9 = 27\n",
            "3 x 10 = 30\n",
            "3 x 11 = 33\n",
            "3 x 12 = 36\n",
            "end inner for mem1 = 3\n",
            "now mem1 = 4\n",
            "4 x 1 = 4\n",
            "4 x 2 = 8\n",
            "4 x 3 = 12\n",
            "4 x 4 = 16\n",
            "4 x 5 = 20\n",
            "4 x 6 = 24\n",
            "4 x 7 = 28\n",
            "4 x 8 = 32\n",
            "4 x 9 = 36\n",
            "4 x 10 = 40\n",
            "4 x 11 = 44\n",
            "4 x 12 = 48\n",
            "end inner for mem1 = 4\n"
          ]
        }
      ]
    },
    {
      "cell_type": "markdown",
      "source": [
        "##**Loop in Function**"
      ],
      "metadata": {
        "id": "nYkz1HpaQKxc"
      }
    },
    {
      "cell_type": "code",
      "source": [
        "def print_grade_loop(names,grades):\n",
        "    for n,g in zip(names,grades):\n",
        "        print(f'{n} ได้เกรด {g}')"
      ],
      "metadata": {
        "id": "qHT1_bXkQIPy"
      },
      "execution_count": 26,
      "outputs": []
    },
    {
      "cell_type": "code",
      "source": [
        "print_grade_loop(list_name,list_grade)"
      ],
      "metadata": {
        "id": "lGpkVEB6QNRD",
        "outputId": "478c8e13-fcf0-4d6e-c87b-9c918eaa9266",
        "colab": {
          "base_uri": "https://localhost:8080/"
        }
      },
      "execution_count": 27,
      "outputs": [
        {
          "output_type": "stream",
          "name": "stdout",
          "text": [
            "นางสาวเบญญาภา ระภูเขียว ได้เกรด B\n",
            "นางสาวทักษิณา ราชหุ่น ได้เกรด A\n",
            "นางสาวปลายฟ้า คำเพ็ง ได้เกรด C\n"
          ]
        }
      ]
    },
    {
      "cell_type": "markdown",
      "source": [
        "##**Conditional Statement (if)**"
      ],
      "metadata": {
        "id": "AqGMdYAOQTjI"
      }
    },
    {
      "cell_type": "markdown",
      "source": [
        "```python\n",
        "if condition1:\n",
        "    do_something() ## ถ้า condition1 เป็นจริง ทำ do_something()\n",
        "elif condition2:\n",
        "    do_another_thing()  ## ถ้า condition1 ไม่เป็นจริงแต่ condition2 เป็นจริง ทำ do_another_thing()\n",
        "else:\n",
        "    do_the_last_thing() ## ถ้าไม่มี condition ไหนเป็นจริงเลย ทำ do_the_last_thing()\n",
        "```"
      ],
      "metadata": {
        "id": "3yL3jN5YQVAt"
      }
    },
    {
      "cell_type": "code",
      "source": [
        "for n in list_name:\n",
        "    if len(n)>20:\n",
        "        print(f'{n} ได้เกรด A')\n",
        "    else:\n",
        "        print(f'{n} ได้เกรด F')"
      ],
      "metadata": {
        "id": "O9X0-MY2QOdY",
        "outputId": "10e41fc4-0900-497c-d258-428dc7e2e8bf",
        "colab": {
          "base_uri": "https://localhost:8080/"
        }
      },
      "execution_count": 28,
      "outputs": [
        {
          "output_type": "stream",
          "name": "stdout",
          "text": [
            "นางสาวเบญญาภา ระภูเขียว ได้เกรด A\n",
            "นางสาวทักษิณา ราชหุ่น ได้เกรด A\n",
            "นางสาวปลายฟ้า คำเพ็ง ได้เกรด F\n"
          ]
        }
      ]
    },
    {
      "cell_type": "markdown",
      "source": [
        "### operator ที่ใช้ตรวจสอบ condition\n",
        "\n",
        "==, !=, >=, <=, <, >, and, or"
      ],
      "metadata": {
        "id": "f-C9QyICQchK"
      }
    },
    {
      "cell_type": "code",
      "source": [
        "a = 10 == 20\n",
        "print(a)"
      ],
      "metadata": {
        "id": "C_I9cuXPQc5-",
        "outputId": "f054ff00-cf74-4bcf-d83a-93b604559629",
        "colab": {
          "base_uri": "https://localhost:8080/"
        }
      },
      "execution_count": 29,
      "outputs": [
        {
          "output_type": "stream",
          "name": "stdout",
          "text": [
            "False\n"
          ]
        }
      ]
    },
    {
      "cell_type": "code",
      "source": [
        "b = 15 <= 20\n",
        "print(b)"
      ],
      "metadata": {
        "id": "gGUG8Mp8Qebb",
        "outputId": "08504b31-936d-44e9-ad58-b41dfe7f64ad",
        "colab": {
          "base_uri": "https://localhost:8080/"
        }
      },
      "execution_count": 30,
      "outputs": [
        {
          "output_type": "stream",
          "name": "stdout",
          "text": [
            "True\n"
          ]
        }
      ]
    },
    {
      "cell_type": "code",
      "source": [
        "if a:\n",
        "    print('x')"
      ],
      "metadata": {
        "id": "3HJ_sNJpQfmH"
      },
      "execution_count": 31,
      "outputs": []
    },
    {
      "cell_type": "code",
      "source": [
        "if True:\n",
        "    print('x')"
      ],
      "metadata": {
        "id": "zMsPjekjQg23",
        "outputId": "5a519562-afbd-42bc-fc59-ec9680daaf93",
        "colab": {
          "base_uri": "https://localhost:8080/"
        }
      },
      "execution_count": 32,
      "outputs": [
        {
          "output_type": "stream",
          "name": "stdout",
          "text": [
            "x\n"
          ]
        }
      ]
    },
    {
      "cell_type": "code",
      "source": [
        "if a and b:\n",
        "    print('x')"
      ],
      "metadata": {
        "id": "lGm8g21CQiFO"
      },
      "execution_count": 33,
      "outputs": []
    },
    {
      "cell_type": "code",
      "source": [
        "if a or b:\n",
        "    print('x')"
      ],
      "metadata": {
        "id": "qhoKWlmkQjO1",
        "outputId": "b9af10c4-bad7-4134-de0d-3718b41fcb8a",
        "colab": {
          "base_uri": "https://localhost:8080/"
        }
      },
      "execution_count": 34,
      "outputs": [
        {
          "output_type": "stream",
          "name": "stdout",
          "text": [
            "x\n"
          ]
        }
      ]
    },
    {
      "cell_type": "markdown",
      "source": [
        "# **HW 4**\n",
        "เขียน function ตัดเกรด โดยที่ input เป็นคะแนน(0-100) , output เป็นเกรด (F-A) หรือ 'ไม่สามารถตัดเกรดได้'\n",
        "\n",
        "วนลูปตัดเกรด input = [1,50,65,90,101,-5,49,'ก',80]\n",
        "\n",
        "กำหนด\n",
        "\n",
        "*  ถ้าคะแนนอยู่ระหว่างมากกว่าหรือเท่ากับ  0  แต่น้อยกว่า 50 จะได้เกรด F\n",
        "*  ถ้าคะแนนอยู่ระหว่างมากกว่าหรือเท่ากับ 50 แต่น้อยกว่า 55 จะได้เกรด D\n",
        "*  ถ้าคะแนนอยู่ระหว่างมากกว่าหรือเท่ากับ 55 แต่น้อยกว่า 60 จะได้เกรด D+\n",
        "*  ถ้าคะแนนอยู่ระหว่างมากกว่าหรือเท่ากับ 60 แต่น้อยกว่า 65 จะได้เกรด C\n",
        "*  ถ้าคะแนนอยู่ระหว่างมากกว่าหรือเท่ากับ 65 แต่น้อยกว่า 70 จะได้เกรด C+\n",
        "*  ถ้าคะแนนอยู่ระหว่างมากกว่าหรือเท่ากับ 70 แต่น้อยกว่า 75 จะได้เกรด B\n",
        "*  ถ้าคะแนนอยู่ระหว่างมากกว่าหรือเท่ากับ 75 แต่น้อยกว่า 80 จะได้เกรด B+\n",
        "*  ถ้าคะแนนอยู่ระหว่างมากกว่าหรือเท่ากับ 80  จะได้เกรด A\n",
        "*  ถ้าคะแนนไม่อยู่ในช่วง 0-100 ให้ return 'ไม่สามารถตัดเกรดได้'"
      ],
      "metadata": {
        "id": "4K0r0Cy2QneG"
      }
    },
    {
      "cell_type": "code",
      "source": [
        "input = [1,50,65,90,101,-5,49,'ก',80]"
      ],
      "metadata": {
        "id": "f9A_8RdSQkT7"
      },
      "execution_count": 35,
      "outputs": []
    },
    {
      "cell_type": "code",
      "source": [
        "for i in input:\n",
        "    if type(i) == type(''):\n",
        "            print (f'คะแนน เท่ากับ {i} ไม่สามารถตัดเกรดได้')\n",
        "    else:\n",
        "        if i >=101:\n",
        "            print (f'คะแนน เท่ากับ {i} ไม่สามารถตัดเกรดได้')\n",
        "        elif i >=80:\n",
        "            print(f'คะเเนน เท่ากับ  {i} จะได้เกรด A')\n",
        "        elif i>=75:\n",
        "            print(f'คะเเนน เท่ากับ  {i} จะได้เกรด B+')\n",
        "        elif i>=70:\n",
        "            print(f'คะเเนน เท่ากับ  {i} จะได้เกรด B')\n",
        "        elif i>=65:\n",
        "            print(f'คะเเนน เท่ากับ  {i} จะได้เกรด C+')\n",
        "        elif i>=60:\n",
        "            print(f'คะเเนน เท่ากับ  {i} จะได้เกรด C')\n",
        "        elif i>=55:\n",
        "            print(f'คะเเนน เท่ากับ  {i} จะได้เกรด D+')\n",
        "        elif i>=50:\n",
        "            print(f'คะเเนน เท่ากับ  {i} จะได้เกรด D')\n",
        "        elif i>=0:\n",
        "            print(f'คะเเนน เท่ากับ  {i} จะได้เกรด F')\n",
        "        else:\n",
        "            print(f'คะเเนน เท่ากับ  {i} ไม่สามารถตัดเกรดได้')"
      ],
      "metadata": {
        "id": "m2CRRvpZQqBF",
        "outputId": "12155b09-a944-4a8f-bf00-4afed706ed9b",
        "colab": {
          "base_uri": "https://localhost:8080/"
        }
      },
      "execution_count": 37,
      "outputs": [
        {
          "output_type": "stream",
          "name": "stdout",
          "text": [
            "คะเเนน เท่ากับ  1 จะได้เกรด F\n",
            "คะเเนน เท่ากับ  50 จะได้เกรด D\n",
            "คะเเนน เท่ากับ  65 จะได้เกรด C+\n",
            "คะเเนน เท่ากับ  90 จะได้เกรด A\n",
            "คะแนน เท่ากับ 101 ไม่สามารถตัดเกรดได้\n",
            "คะเเนน เท่ากับ  -5 ไม่สามารถตัดเกรดได้\n",
            "คะเเนน เท่ากับ  49 จะได้เกรด F\n",
            "คะแนน เท่ากับ ก ไม่สามารถตัดเกรดได้\n",
            "คะเเนน เท่ากับ  80 จะได้เกรด A\n"
          ]
        }
      ]
    },
    {
      "cell_type": "code",
      "source": [
        ""
      ],
      "metadata": {
        "id": "Shvmf_uqQr_F"
      },
      "execution_count": null,
      "outputs": []
    }
  ]
}