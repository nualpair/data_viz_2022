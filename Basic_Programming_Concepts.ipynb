{
  "nbformat": 4,
  "nbformat_minor": 0,
  "metadata": {
    "colab": {
      "name": "Basic_Programming_Concepts.ipynb",
      "provenance": [],
      "authorship_tag": "ABX9TyNE6mc2uX5XhV0/6U5IL80K",
      "include_colab_link": true
    },
    "kernelspec": {
      "name": "python3",
      "display_name": "Python 3"
    },
    "language_info": {
      "name": "python"
    }
  },
  "cells": [
    {
      "cell_type": "markdown",
      "metadata": {
        "id": "view-in-github",
        "colab_type": "text"
      },
      "source": [
        "<a href=\"https://colab.research.google.com/github/nualpair/data_viz_2022/blob/main/Basic_Programming_Concepts.ipynb\" target=\"_parent\"><img src=\"https://colab.research.google.com/assets/colab-badge.svg\" alt=\"Open In Colab\"/></a>"
      ]
    },
    {
      "cell_type": "markdown",
      "source": [
        "# **Functions ($f(x) = y $)**"
      ],
      "metadata": {
        "id": "7MqIrw73A5T0"
      }
    },
    {
      "cell_type": "markdown",
      "source": [
        "``` python \n",
        "def function_name(input_x): #ขึ้นต้นด้วย def แล้วตามด้วยชื่อ function แล้วรับ input ด้วยตัวแปร x\n",
        "    #do someting with input_x to get output_y จะได้ค่า y ออกมา\n",
        "    return output_y \n",
        "```"
      ],
      "metadata": {
        "id": "iFXOSzwTA7S2"
      }
    },
    {
      "cell_type": "markdown",
      "source": [
        "$f_1(x)=x^2 + 75$"
      ],
      "metadata": {
        "id": "RIEE_615A7uX"
      }
    },
    {
      "cell_type": "code",
      "execution_count": 1,
      "metadata": {
        "colab": {
          "base_uri": "https://localhost:8080/"
        },
        "id": "7EnfcTAsAvlW",
        "outputId": "32d4c9a1-21b4-42fd-e286-14a5e8c07946"
      },
      "outputs": [
        {
          "output_type": "stream",
          "name": "stdout",
          "text": [
            "done!\n"
          ]
        }
      ],
      "source": [
        "# Function มีครบทุกอย่าง \n",
        "def function_f1(x):\n",
        "    a = x**2 #ยกกำลัง คือ ** สองอัน\n",
        "    y = a + 75 \n",
        "    return y #ส่งค่าออกมาเป็นค่า y\n",
        "\n",
        "print('done!') #ไม่ให้มันเยื้องแล้ว ให้มันกลับมาเหมือนเดิม "
      ]
    },
    {
      "cell_type": "code",
      "source": [
        "function_f1(3) # x =  3 ค่าที่ได้จะเท่ากับ 84"
      ],
      "metadata": {
        "colab": {
          "base_uri": "https://localhost:8080/"
        },
        "id": "zEo-2CppA-z-",
        "outputId": "a9feeebd-5a0b-4a80-baa3-5f1c3b2f6fc7"
      },
      "execution_count": 2,
      "outputs": [
        {
          "output_type": "execute_result",
          "data": {
            "text/plain": [
              "84"
            ]
          },
          "metadata": {},
          "execution_count": 2
        }
      ]
    },
    {
      "cell_type": "markdown",
      "source": [
        "## **Function มีส่วนสำคัญทั้งหมด 4 ส่วน** \n",
        "\n",
        "1. บอก python ว่าเราจะเขียนฟังก์ชั่น ชื่ออะไร def  function_name(): (ขาดไม่ได้) \n",
        "2. กำหนดตัวแปรที่จะเป็น input (ขาดได้)\n",
        "3. ส่วนประมวลผล (ขาดไม่ได้)\n",
        "4. ส่วน output  (ขาดได้)"
      ],
      "metadata": {
        "id": "dur-3lB8BDTu"
      }
    },
    {
      "cell_type": "markdown",
      "source": [
        "###ตัวอย่าง function ที่มีส่วนประกอบครบ"
      ],
      "metadata": {
        "id": "BxgdP6-4BF4g"
      }
    },
    {
      "cell_type": "code",
      "source": [
        "# Function มีครบทุกอย่าง \n",
        "def function_f1(x):\n",
        "    a = x**2 #ยกกำลัง คือ ** สองอัน\n",
        "    y = a + 75 \n",
        "    return y #ส่งค่าออกมาเป็นค่า y\n",
        "\n",
        "print('done!') #ไม่ให้มันเยื้องแล้ว ให้มันกลับมาเหมือนเดิม "
      ],
      "metadata": {
        "colab": {
          "base_uri": "https://localhost:8080/"
        },
        "id": "NYoKtZTFBBjO",
        "outputId": "1a78cdff-b3fe-407f-b1e4-90ba0e5478e1"
      },
      "execution_count": 3,
      "outputs": [
        {
          "output_type": "stream",
          "name": "stdout",
          "text": [
            "done!\n"
          ]
        }
      ]
    },
    {
      "cell_type": "markdown",
      "source": [
        "###ตัวอย่าง function ที่ไม่มี input"
      ],
      "metadata": {
        "id": "8YWVh3FABLtp"
      }
    },
    {
      "cell_type": "code",
      "source": [
        "def pi_v(): #กำหนดชื่อเป็น pi_v\n",
        "    y =3.14159265359\n",
        "    return y #ส่งค่าออกมาเป็นค่า y"
      ],
      "metadata": {
        "id": "1-KrP00qBHep"
      },
      "execution_count": 4,
      "outputs": []
    },
    {
      "cell_type": "code",
      "source": [
        "piv = pi_v()\n",
        "circle_area_r2 = pi_v()*(2**2) #ตัวอย่างหาพื้นที่วงกลม\n",
        "print(circle_area_r2) "
      ],
      "metadata": {
        "colab": {
          "base_uri": "https://localhost:8080/"
        },
        "id": "1xpRw_ZpBNae",
        "outputId": "c5d5de16-d1a5-4462-dbdd-630b72545102"
      },
      "execution_count": 5,
      "outputs": [
        {
          "output_type": "stream",
          "name": "stdout",
          "text": [
            "12.56637061436\n"
          ]
        }
      ]
    },
    {
      "cell_type": "markdown",
      "source": [
        "###ตัวอย่าง function ที่ไม่มี Process"
      ],
      "metadata": {
        "id": "47UGopskBP7p"
      }
    },
    {
      "cell_type": "code",
      "source": [
        "## def functions_a():    ###กรณีไม่มี Process ไม่มีไม่ได้ ไม่งั้นจะ Error"
      ],
      "metadata": {
        "id": "faEt61S9BOj4"
      },
      "execution_count": 6,
      "outputs": []
    },
    {
      "cell_type": "markdown",
      "source": [
        "###ตัวอย่าง function ที่ไม่มี output"
      ],
      "metadata": {
        "id": "dxsCm2BVBhRD"
      }
    },
    {
      "cell_type": "code",
      "source": [
        "def print_name_id(name,id): #name ตรงนี้ไม่ใช่ตัวแปรถาวร ถ้าถูกใช้แล้วก็จะหายไป\n",
        "    print(f'ชื่อ {name} รหัสประจำตัว {id}')"
      ],
      "metadata": {
        "id": "gnZ4EbWsBSA9"
      },
      "execution_count": 19,
      "outputs": []
    },
    {
      "cell_type": "code",
      "source": [
        "print_name_id('นวลแพร','623020525-0') #print ชื่อกับรหัสประจำตัวออกมา"
      ],
      "metadata": {
        "colab": {
          "base_uri": "https://localhost:8080/"
        },
        "id": "2FQQbA5-Bjdm",
        "outputId": "147a8c1d-b703-425b-f3f8-bcb0a31c4dca"
      },
      "execution_count": 20,
      "outputs": [
        {
          "output_type": "stream",
          "name": "stdout",
          "text": [
            "ชื่อ นวลแพร รหัสประจำตัว 623020525-0\n"
          ]
        }
      ]
    },
    {
      "cell_type": "code",
      "source": [
        "a = print_name_id('นวลแพร','623020525-0') #กรณีไม่มี return"
      ],
      "metadata": {
        "colab": {
          "base_uri": "https://localhost:8080/"
        },
        "id": "BlKP97WNBnU8",
        "outputId": "df4d198e-31d8-4606-c4b7-267fe5ab1108"
      },
      "execution_count": 21,
      "outputs": [
        {
          "output_type": "stream",
          "name": "stdout",
          "text": [
            "ชื่อ นวลแพร รหัสประจำตัว 623020525-0\n"
          ]
        }
      ]
    },
    {
      "cell_type": "code",
      "source": [
        "a #ไม่มี return ค่า a เลยเป็นช่องว่างธรรมดา"
      ],
      "metadata": {
        "id": "7mNnojC7BqAS"
      },
      "execution_count": 22,
      "outputs": []
    },
    {
      "cell_type": "markdown",
      "source": [
        "###ตัวอย่าง function print\n",
        "https://www.programiz.com/python-programming/methods/built-in/print"
      ],
      "metadata": {
        "id": "qMMR5eEyB3YX"
      }
    },
    {
      "cell_type": "code",
      "source": [
        "print(' นวลแพร ',end=' -> ') #จะอยู่ในบรรทัดเดียวกัน\n",
        "print(' 623020525-0 ') #\\n ขึ้นบรรทัดใหม่"
      ],
      "metadata": {
        "colab": {
          "base_uri": "https://localhost:8080/"
        },
        "id": "teAL2PsvBrVv",
        "outputId": "f231bc5c-38e4-4997-d2e7-6dbb0a13c91b"
      },
      "execution_count": 27,
      "outputs": [
        {
          "output_type": "stream",
          "name": "stdout",
          "text": [
            " นวลแพร  ->  623020525-0 \n"
          ]
        }
      ]
    },
    {
      "cell_type": "code",
      "source": [
        " print('นวลแพร',end=' 623020525-0 ') #จะอยู่ในบรรทัดเดียวกัน"
      ],
      "metadata": {
        "colab": {
          "base_uri": "https://localhost:8080/"
        },
        "id": "-Xr5858eB5Fe",
        "outputId": "42a51ee0-d9f6-4df5-ea15-aa8854f54d10"
      },
      "execution_count": 29,
      "outputs": [
        {
          "output_type": "stream",
          "name": "stdout",
          "text": [
            "นวลแพร 623020525-0 "
          ]
        }
      ]
    },
    {
      "cell_type": "code",
      "source": [
        " print('นวลแพร',' 623020525-0 ',sep=' & ') #จะเพิ่ม & ให้"
      ],
      "metadata": {
        "colab": {
          "base_uri": "https://localhost:8080/"
        },
        "id": "bv04SKcBCGWr",
        "outputId": "705db32b-cedf-4b61-ebb8-3f5ae40622e4"
      },
      "execution_count": 28,
      "outputs": [
        {
          "output_type": "stream",
          "name": "stdout",
          "text": [
            "นวลแพร &  623020525-0 \n"
          ]
        }
      ]
    },
    {
      "cell_type": "markdown",
      "source": [
        "##**input ของ function แบ่งเป็น 2 ชนิด (จำเป็นต้องใส่ กับ ไม่จำเป็นต้องใส่)**"
      ],
      "metadata": {
        "id": "YCX2OrWDCh8w"
      }
    },
    {
      "cell_type": "markdown",
      "source": [
        "###ตัวอย่าง function print_grade มี input 3 ตัว จำเป็นต้องใส่ 2 ตัว คือ name กับ id และ ไม่จำเป็นต้องใส่ 1 ตัว คือ เกรด ซึ่งมีค่าเป็นค่าเริ่มต้น เป็น F"
      ],
      "metadata": {
        "id": "EqNU9BrrCidd"
      }
    },
    {
      "cell_type": "code",
      "source": [
        "def print_grade(name,id,grade = 'F'): #ฟังกชั่นมี input , พารามิเตอร์ 3 ตัว \n",
        "     print(f'รหัสนักศึกษา {id} ชื่อ {name}')\n",
        "     print(f'ได้เกรด {grade}')"
      ],
      "metadata": {
        "id": "M3mYrGLiCGoS"
      },
      "execution_count": 37,
      "outputs": []
    },
    {
      "cell_type": "code",
      "source": [
        "print_grade('นางสาวนวลแพร พนาวัฒนวงศ์' , '623020525-0' , 'A' ) #ลองปริ้นออกมาดู ซึ่งต้องใส่ให้ตรงกับที่ใส่ด้านบนคือ ใส่ชื่อก่อนใส่ไอดี #ถ้าไม่ใส่ เกรดจะได้ เกรด F"
      ],
      "metadata": {
        "colab": {
          "base_uri": "https://localhost:8080/"
        },
        "id": "a-GL5Lu7CteR",
        "outputId": "d2c3a247-cb27-4be6-8fea-9f7c9190072d"
      },
      "execution_count": 40,
      "outputs": [
        {
          "output_type": "stream",
          "name": "stdout",
          "text": [
            "รหัสนักศึกษา 623020525-0 ชื่อ นางสาวนวลแพร พนาวัฒนวงศ์\n",
            "ได้เกรด A\n"
          ]
        }
      ]
    },
    {
      "cell_type": "code",
      "source": [
        "print_grade(id = '623020525-0' ,name = 'นางสาวนวลแพร พนาวัฒนวงศ์' ,grade='A' ) #กรณีนี้แบบกำหนดเลยว่า จะเอาอะไรขึ้นก่อน"
      ],
      "metadata": {
        "colab": {
          "base_uri": "https://localhost:8080/"
        },
        "id": "6nGpj30bDCna",
        "outputId": "9daf9df3-0a8c-4fc1-b3e3-b476b60d5730"
      },
      "execution_count": 41,
      "outputs": [
        {
          "output_type": "stream",
          "name": "stdout",
          "text": [
            "รหัสนักศึกษา 623020525-0 ชื่อ นางสาวนวลแพร พนาวัฒนวงศ์\n",
            "ได้เกรด A\n"
          ]
        }
      ]
    },
    {
      "cell_type": "markdown",
      "source": [
        "##Conditional Statement (if)"
      ],
      "metadata": {
        "id": "-x4DL7N5DFJR"
      }
    },
    {
      "cell_type": "code",
      "source": [
        ""
      ],
      "metadata": {
        "id": "9zkFt7s5DEs2"
      },
      "execution_count": null,
      "outputs": []
    }
  ]
}